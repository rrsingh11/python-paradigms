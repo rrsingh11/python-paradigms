{
 "cells": [
  {
   "cell_type": "markdown",
   "id": "e92e2092",
   "metadata": {},
   "source": [
    "## 1. Given a string, find its mirroring image"
   ]
  },
  {
   "cell_type": "code",
   "execution_count": 6,
   "id": "7e12c4ef",
   "metadata": {},
   "outputs": [
    {
     "name": "stdout",
     "output_type": "stream",
     "text": [
      "Enter a string SRMIST\n",
      "Mirror image of string is TSIMRS\n"
     ]
    }
   ],
   "source": [
    "string = input(\"Enter a string \")\n",
    "print('Mirror image of string is', string[::-1])"
   ]
  },
  {
   "cell_type": "markdown",
   "id": "6180bfd3",
   "metadata": {},
   "source": [
    "## 2. Check if two strings are Rotationally Equivalent"
   ]
  },
  {
   "cell_type": "code",
   "execution_count": 15,
   "id": "5cbcdc67",
   "metadata": {},
   "outputs": [
    {
     "name": "stdout",
     "output_type": "stream",
     "text": [
      "Enter first string SRMIST\n",
      "Enter second string ISTMRS\n",
      "False\n"
     ]
    }
   ],
   "source": [
    "stringA = input(\"Enter first string \")\n",
    "stringB = input(\"Enter second string \")\n",
    "count = 0\n",
    "for i in range(len(stringA)):\n",
    "    if(stringA[i:]+stringA[:i]== stringB):\n",
    "        count = 1\n",
    "if(count==1):\n",
    "    print('True')\n",
    "else:\n",
    "    print('False')"
   ]
  },
  {
   "cell_type": "markdown",
   "id": "62e267a3",
   "metadata": {},
   "source": [
    "## 3. Given a number n, the task is to generate a random binary string of length n."
   ]
  },
  {
   "cell_type": "code",
   "execution_count": 18,
   "id": "829bed13",
   "metadata": {},
   "outputs": [
    {
     "name": "stdout",
     "output_type": "stream",
     "text": [
      "Enter number- 4\n",
      "rjit"
     ]
    }
   ],
   "source": [
    "import random\n",
    "import string\n",
    "\n",
    "noOfLetters = int(input(\"Enter number- \"))\n",
    "for i in range(noOfLetters):\n",
    "    word = random.choice(string.ascii_letters.lower())\n",
    "    print(word,end=\"\")"
   ]
  },
  {
   "cell_type": "markdown",
   "id": "43471a58",
   "metadata": {},
   "source": [
    "## 4. Given a string, remove punctuation and any special characters"
   ]
  },
  {
   "cell_type": "code",
   "execution_count": null,
   "id": "ff41e840",
   "metadata": {},
   "outputs": [],
   "source": []
  },
  {
   "cell_type": "markdown",
   "id": "9e59cbf5",
   "metadata": {},
   "source": [
    "## 5. Write a Python program to compute element-wise sum of given tuples."
   ]
  },
  {
   "cell_type": "code",
   "execution_count": null,
   "id": "af170e68",
   "metadata": {},
   "outputs": [],
   "source": []
  }
 ],
 "metadata": {
  "kernelspec": {
   "display_name": "Python 3 (ipykernel)",
   "language": "python",
   "name": "python3"
  },
  "language_info": {
   "codemirror_mode": {
    "name": "ipython",
    "version": 3
   },
   "file_extension": ".py",
   "mimetype": "text/x-python",
   "name": "python",
   "nbconvert_exporter": "python",
   "pygments_lexer": "ipython3",
   "version": "3.9.7"
  }
 },
 "nbformat": 4,
 "nbformat_minor": 5
}
