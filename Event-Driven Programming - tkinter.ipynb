{
 "cells": [
  {
   "cell_type": "code",
   "execution_count": 44,
   "id": "6f6082e2",
   "metadata": {},
   "outputs": [],
   "source": [
    "import tkinter as tk\n",
    "from tkinter import *"
   ]
  },
  {
   "cell_type": "code",
   "execution_count": 45,
   "id": "44707f3d",
   "metadata": {},
   "outputs": [],
   "source": [
    "def inserted():\n",
    "    msg = messagebox.showinfo(\"Confirmation\",\"Inserted Successfully\")\n",
    "def updated():\n",
    "    msg = messagebox.showinfo(\"Confirmation\",\"Updated Successfully\")\n",
    "def deleted():\n",
    "    msg = messagebox.showinfo(\"Confrimation\", \"Deleted Successfully\")"
   ]
  },
  {
   "cell_type": "code",
   "execution_count": 55,
   "id": "267157b6",
   "metadata": {},
   "outputs": [],
   "source": [
    "root = Tk() #created window\n",
    "root.title('Student Details')\n",
    "root.geometry('400x400')\n",
    "\n",
    "#labels and textfield\n",
    "l1 = Label(root,text=\"RegNo\").grid(row=1)\n",
    "t1 = Entry(root).grid(row=1,column=1)\n",
    "l2 = Label(root,text=\"Name\").grid(row=2)\n",
    "t2 = Entry(root).grid(row=2,column=1)\n",
    "l3 = Label(root,text=\"Department\").grid(row=3)\n",
    "dept = StringVar(root,value= 'CSE') #string variable\n",
    "t3 = Entry(root,textvariable=dept).grid(row=3,column=1)\n",
    "#radiobutton\n",
    "l4 = Label(root,text='Gender').grid(row=4)\n",
    "gender = IntVar()\n",
    "rb1 = Radiobutton(root,text = 'Male',variable=gender,value=0).grid(row=4,column=1)\n",
    "rb2 = Radiobutton(root,text = 'Female',variable=gender,value=1).grid(row=4,column=2)\n",
    "#spinbox\n",
    "l5 = Label(root,text='Age').grid(row=5)\n",
    "spin = Spinbox(root,from_=16,to=24).grid(row=5,column=1)\n",
    "#Scale\n",
    "l6 = Label(root,text='Marks').grid(row=6)\n",
    "scale = Scale(root,from_=1, to=10, orient=HORIZONTAL).grid(row=6,column=1)\n",
    "#checkbutton\n",
    "l7 = Label(root,text='Skills').grid(row=7)\n",
    "cb1 = Checkbutton(root,text='Technical').grid(row=7,column=1)\n",
    "cb1 = Checkbutton(root,text='Non-Technical').grid(row=7,column=2)\n",
    "#buttons\n",
    "b1 = Button(root,text='Insert',command=inserted).grid(row=10,column=0)\n",
    "b2 = Button(root,text='Update',command=updated).grid(row=10,column=1)\n",
    "b3 = Button(root,text='Delete',command=deleted).grid(row=10,column=2)\n",
    "root.mainloop()"
   ]
  }
 ],
 "metadata": {
  "kernelspec": {
   "display_name": "Python 3 (ipykernel)",
   "language": "python",
   "name": "python3"
  },
  "language_info": {
   "codemirror_mode": {
    "name": "ipython",
    "version": 3
   },
   "file_extension": ".py",
   "mimetype": "text/x-python",
   "name": "python",
   "nbconvert_exporter": "python",
   "pygments_lexer": "ipython3",
   "version": "3.9.7"
  }
 },
 "nbformat": 4,
 "nbformat_minor": 5
}
