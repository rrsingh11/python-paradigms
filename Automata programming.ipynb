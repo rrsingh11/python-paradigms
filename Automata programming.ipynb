{
 "cells": [
  {
   "cell_type": "code",
   "execution_count": 1,
   "id": "2330777f",
   "metadata": {},
   "outputs": [
    {
     "name": "stdout",
     "output_type": "stream",
     "text": [
      "Collecting automata-lib\n",
      "  Downloading automata_lib-5.0.0-py3-none-any.whl (32 kB)\n",
      "Collecting pydot\n",
      "  Downloading pydot-1.4.2-py2.py3-none-any.whl (21 kB)\n",
      "Requirement already satisfied: pyparsing>=2.1.4 in c:\\users\\ritu raj singh\\anaconda3\\lib\\site-packages (from pydot->automata-lib) (3.0.4)\n",
      "Installing collected packages: pydot, automata-lib\n",
      "Successfully installed automata-lib-5.0.0 pydot-1.4.2\n",
      "Note: you may need to restart the kernel to use updated packages.\n"
     ]
    }
   ],
   "source": [
    "pip install automata-lib"
   ]
  },
  {
   "cell_type": "raw",
   "id": "52253ecf",
   "metadata": {},
   "source": [
    "Q1\n",
    "Write a automata code for the Language that accepts all and only those strings that contain 001"
   ]
  },
  {
   "cell_type": "code",
   "execution_count": 16,
   "id": "067488ee",
   "metadata": {},
   "outputs": [
    {
     "name": "stdout",
     "output_type": "stream",
     "text": [
      "Enter the string: 11001\n",
      "Accepted\n",
      "Enter the string: 11010\n",
      "Rejected\n"
     ]
    }
   ],
   "source": [
    "from automata.fa.dfa import DFA\n",
    "dfa=DFA(\n",
    "    states = {'q0','q1','q2','q3'},\n",
    "    input_symbols={'0','1'},\n",
    "    transitions = {\n",
    "        'q0': {'0':'q1','1':'q0'},\n",
    "        'q1': {'0':'q2','1':'q0'},\n",
    "        'q2': {'0':'q2','1':'q3'},\n",
    "        'q3': {'0':'q3','1':'q3'}\n",
    "    },\n",
    "    initial_state='q0', final_states={'q3'}\n",
    ")\n",
    "\n",
    "for i in range(2):\n",
    "    num = input(\"Enter the string: \")\n",
    "    if(dfa.accepts_input(num)):\n",
    "        print('Accepted')\n",
    "    else:\n",
    "        print('Rejected')"
   ]
  },
  {
   "cell_type": "raw",
   "id": "d8b0bb18",
   "metadata": {},
   "source": [
    "Q2\n",
    "Write a automata code for L(M) ={ w | w has an even number of 1s}"
   ]
  },
  {
   "cell_type": "code",
   "execution_count": 20,
   "id": "0f273e44",
   "metadata": {},
   "outputs": [
    {
     "name": "stdout",
     "output_type": "stream",
     "text": [
      "Enter the string: 11011011\n",
      "Accepted\n",
      "Enter the string: 1101101\n",
      "Rejected\n"
     ]
    }
   ],
   "source": [
    "from automata.fa.dfa import DFA\n",
    "dfa = DFA(\n",
    "    states={'q0','q1','q2'},\n",
    "    input_symbols={'0','1'},\n",
    "    transitions={\n",
    "        'q0':{'0':'q0','1':'q1'},\n",
    "        'q1':{'0':'q1','1':'q2'},\n",
    "        'q2':{'0':'q2','1':'q1'}\n",
    "    },\n",
    "    initial_state='q0',\n",
    "    final_states={'q2'}\n",
    ")\n",
    "\n",
    "for i in range(2):\n",
    "    num=input('Enter the string: ')\n",
    "    if(dfa.accepts_input(num)):\n",
    "        print('Accepted')\n",
    "    else:\n",
    "        print('Rejected')"
   ]
  },
  {
   "cell_type": "raw",
   "id": "44b13af0",
   "metadata": {},
   "source": [
    "Q3\n",
    "Write a automata code for L(M)=a + aa*b"
   ]
  },
  {
   "cell_type": "code",
   "execution_count": 4,
   "id": "26d566c6",
   "metadata": {},
   "outputs": [
    {
     "name": "stdout",
     "output_type": "stream",
     "text": [
      "Enter the string: aaab\n",
      "Accepted\n",
      "Enter the string: aaaabb\n",
      "Rejected\n"
     ]
    }
   ],
   "source": [
    "from automata.fa.dfa import DFA\n",
    "dfa = DFA(\n",
    "    states={'q0','q1','q2','q3','q4'},\n",
    "    input_symbols={'a','b'},\n",
    "    transitions={\n",
    "        'q0':{'a':'q1','b':'q4'},\n",
    "        'q1':{'a':'q2','b':'q4'},\n",
    "        'q2':{'a':'q2','b':'q3'},\n",
    "        'q3':{'a':'q4','b':'q4'},\n",
    "        'q4':{'a':'q4','b':'q4'}\n",
    "    },\n",
    "    initial_state='q0',\n",
    "    final_states={'q1','q3'}\n",
    ")\n",
    "for i in range(2):\n",
    "    num = input('Enter the string: ')\n",
    "    if(dfa.accepts_input(num)):\n",
    "        print('Accepted')\n",
    "    else:\n",
    "        print('Rejected')"
   ]
  },
  {
   "cell_type": "code",
   "execution_count": null,
   "id": "f6d78517",
   "metadata": {},
   "outputs": [],
   "source": []
  }
 ],
 "metadata": {
  "kernelspec": {
   "display_name": "Python 3 (ipykernel)",
   "language": "python",
   "name": "python3"
  },
  "language_info": {
   "codemirror_mode": {
    "name": "ipython",
    "version": 3
   },
   "file_extension": ".py",
   "mimetype": "text/x-python",
   "name": "python",
   "nbconvert_exporter": "python",
   "pygments_lexer": "ipython3",
   "version": "3.9.7"
  }
 },
 "nbformat": 4,
 "nbformat_minor": 5
}
