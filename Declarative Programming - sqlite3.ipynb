{
 "cells": [
  {
   "cell_type": "code",
   "execution_count": 22,
   "id": "987361dc",
   "metadata": {},
   "outputs": [],
   "source": [
    "from sqlite3 import *"
   ]
  },
  {
   "cell_type": "code",
   "execution_count": 2,
   "id": "1bdf6de7",
   "metadata": {},
   "outputs": [
    {
     "name": "stdout",
     "output_type": "stream",
     "text": [
      "Opened database successfully\n"
     ]
    }
   ],
   "source": [
    "conn = connect('database/tutorials.db')\n",
    "print(\"Opened database successfully\")"
   ]
  },
  {
   "cell_type": "code",
   "execution_count": 42,
   "id": "8752a8b6",
   "metadata": {},
   "outputs": [
    {
     "name": "stdout",
     "output_type": "stream",
     "text": [
      "Database reset\n"
     ]
    }
   ],
   "source": [
    "conn.execute((\"drop table recepies;\"))\n",
    "print(\"Database reset\")"
   ]
  },
  {
   "cell_type": "code",
   "execution_count": 43,
   "id": "8ac9ba71",
   "metadata": {
    "scrolled": true
   },
   "outputs": [
    {
     "name": "stdout",
     "output_type": "stream",
     "text": [
      "Table created successfully\n"
     ]
    }
   ],
   "source": [
    "if(conn.execute(\n",
    "    \"CREATE Table recepies(id INT PRIMARY KEY NOT NULL,name VARCHAR,description TEXT,created DATETIME)\")):\n",
    "    print(\"Table created successfully\")"
   ]
  },
  {
   "cell_type": "code",
   "execution_count": 44,
   "id": "b2c99843",
   "metadata": {
    "scrolled": true
   },
   "outputs": [
    {
     "data": {
      "text/plain": [
       "<sqlite3.Cursor at 0x211ae046b90>"
      ]
     },
     "execution_count": 44,
     "metadata": {},
     "output_type": "execute_result"
    }
   ],
   "source": [
    "conn.execute(\"INSERT INTO recepies VALUES(101,'Chicken','Indian','24-12-2022');\")\n",
    "conn.execute(\"INSERT INTO recepies VALUES(102,'Chicken','Indian','25-12-2022');\")\n",
    "conn.execute(\"INSERT INTO recepies VALUES(103,'Chicken','Indian','26-12-2022');\")"
   ]
  },
  {
   "cell_type": "code",
   "execution_count": 45,
   "id": "f13ac51b",
   "metadata": {},
   "outputs": [
    {
     "name": "stdout",
     "output_type": "stream",
     "text": [
      "(101, 'Chicken', 'Indian', '24-12-2022')\n",
      "(102, 'Chicken', 'Indian', '25-12-2022')\n",
      "(103, 'Chicken', 'Indian', '26-12-2022')\n"
     ]
    }
   ],
   "source": [
    "for rows in conn.execute(\"SELECT * FROM recepies;\"):\n",
    "    print(rows)"
   ]
  },
  {
   "cell_type": "code",
   "execution_count": 46,
   "id": "1cc0640a",
   "metadata": {},
   "outputs": [
    {
     "data": {
      "text/plain": [
       "<sqlite3.Cursor at 0x211ae046c70>"
      ]
     },
     "execution_count": 46,
     "metadata": {},
     "output_type": "execute_result"
    }
   ],
   "source": [
    "conn.execute(\"UPDATE recepies SET name = 'EGG' WHERE id=102\") #Update command"
   ]
  },
  {
   "cell_type": "code",
   "execution_count": 49,
   "id": "625cc30c",
   "metadata": {},
   "outputs": [
    {
     "name": "stdout",
     "output_type": "stream",
     "text": [
      "(101, 'Chicken', 'Indian', '24-12-2022')\n",
      "(102, 'EGG', 'Indian', '25-12-2022')\n",
      "(103, 'Chicken', 'Indian', '26-12-2022')\n"
     ]
    }
   ],
   "source": [
    "for rows in conn.execute(\"SELECT * FROM recepies;\"):\n",
    "    print(rows)"
   ]
  },
  {
   "cell_type": "code",
   "execution_count": 54,
   "id": "46e92a59",
   "metadata": {},
   "outputs": [
    {
     "data": {
      "text/plain": [
       "<sqlite3.Cursor at 0x211ae048500>"
      ]
     },
     "execution_count": 54,
     "metadata": {},
     "output_type": "execute_result"
    }
   ],
   "source": [
    "conn.execute(\"DELETE FROM recepies WHERE id=102\") "
   ]
  },
  {
   "cell_type": "code",
   "execution_count": 55,
   "id": "d06de55f",
   "metadata": {},
   "outputs": [
    {
     "name": "stdout",
     "output_type": "stream",
     "text": [
      "(101, 'Chicken', 'Indian', '24-12-2022')\n",
      "(103, 'Chicken', 'Indian', '26-12-2022')\n"
     ]
    }
   ],
   "source": [
    "for rows in conn.execute(\"SELECT * FROM recepies;\"):\n",
    "    print(rows)"
   ]
  },
  {
   "cell_type": "code",
   "execution_count": null,
   "id": "5ac247fb",
   "metadata": {},
   "outputs": [],
   "source": []
  }
 ],
 "metadata": {
  "kernelspec": {
   "display_name": "Python 3 (ipykernel)",
   "language": "python",
   "name": "python3"
  },
  "language_info": {
   "codemirror_mode": {
    "name": "ipython",
    "version": 3
   },
   "file_extension": ".py",
   "mimetype": "text/x-python",
   "name": "python",
   "nbconvert_exporter": "python",
   "pygments_lexer": "ipython3",
   "version": "3.9.7"
  }
 },
 "nbformat": 4,
 "nbformat_minor": 5
}
