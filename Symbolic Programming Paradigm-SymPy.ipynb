{
 "cells": [
  {
   "cell_type": "code",
   "execution_count": null,
   "id": "80e245fc",
   "metadata": {},
   "outputs": [],
   "source": [
    "pip install sympy"
   ]
  },
  {
   "cell_type": "markdown",
   "id": "00e3ffdb",
   "metadata": {},
   "source": [
    "#### Sympy support to perform the mathematical operations such as\n",
    "- Algebraic manipulations \n",
    "- Differentiation \n",
    "- Integration \n",
    "- Equation solving \n",
    "- Linear algebra \n"
   ]
  },
  {
   "cell_type": "code",
   "execution_count": 1,
   "id": "6b0a15cc",
   "metadata": {},
   "outputs": [],
   "source": [
    "import sympy as sym\n",
    "from sympy import *"
   ]
  },
  {
   "cell_type": "code",
   "execution_count": 2,
   "id": "e0c5d6ff",
   "metadata": {},
   "outputs": [
    {
     "name": "stdout",
     "output_type": "stream",
     "text": [
      "1/2\n"
     ]
    }
   ],
   "source": [
    "#Rational number\n",
    "a = sym.Rational(1,2)\n",
    "print(a)"
   ]
  },
  {
   "cell_type": "code",
   "execution_count": 3,
   "id": "5fe0c2b3",
   "metadata": {},
   "outputs": [
    {
     "name": "stdout",
     "output_type": "stream",
     "text": [
      "pi\n",
      "3.14159265358979\n"
     ]
    }
   ],
   "source": [
    "#evalf- It evaluates the expression to a floating-point number.\n",
    "print(sym.pi) # - symbol\n",
    "print(sym.pi.evalf())# -value "
   ]
  },
  {
   "cell_type": "code",
   "execution_count": 4,
   "id": "86f947bf",
   "metadata": {},
   "outputs": [
    {
     "name": "stdout",
     "output_type": "stream",
     "text": [
      "2*x + 2*y\n"
     ]
    }
   ],
   "source": [
    "#Symbols\n",
    "x = sym.Symbol('x')\n",
    "y = sym.Symbol('y')\n",
    "print(x+y+x+y) # 2x+2y"
   ]
  },
  {
   "cell_type": "code",
   "execution_count": 5,
   "id": "e8fb0424",
   "metadata": {},
   "outputs": [
    {
     "name": "stdout",
     "output_type": "stream",
     "text": [
      "Limit of expression where variable is x tends to value 0 :1 \n"
     ]
    }
   ],
   "source": [
    "#limit() - lim(exp)\n",
    "#          x->0\n",
    "x = sym.Symbol('x')\n",
    "exp = sin(x)/x\n",
    "#limt(expression,variable,value)\n",
    "limit_exp = limit(exp,x,0)\n",
    "print(\"Limit of expression where variable is x tends to value 0 :{} \".format(limit_exp))"
   ]
  },
  {
   "cell_type": "code",
   "execution_count": 6,
   "id": "03e57ba9",
   "metadata": {},
   "outputs": [
    {
     "name": "stdout",
     "output_type": "stream",
     "text": [
      "3*x**2 + 2*x\n"
     ]
    }
   ],
   "source": [
    "#Differentiation\n",
    "#diff() \n",
    "x = sym.Symbol('x')\n",
    "exp = x**3 + x**2 + 1 \n",
    "diff_exp = diff(exp,x)\n",
    "print(diff(exp))  #3x^2 + 2x"
   ]
  },
  {
   "cell_type": "code",
   "execution_count": 7,
   "id": "dabaa3ec",
   "metadata": {},
   "outputs": [
    {
     "name": "stdout",
     "output_type": "stream",
     "text": [
      "x**3 + x**2\n"
     ]
    }
   ],
   "source": [
    "#Integration\n",
    "#integrate()\n",
    "x = sym.Symbol('x')\n",
    "exp = 3*x**2 + 2*x\n",
    "integrate_exp = integrate(exp,x)\n",
    "print(integrate_exp)"
   ]
  },
  {
   "cell_type": "code",
   "execution_count": 8,
   "id": "83fa33c1",
   "metadata": {},
   "outputs": [
    {
     "name": "stdout",
     "output_type": "stream",
     "text": [
      "x**2 + 2*x*y + y**2\n"
     ]
    }
   ],
   "source": [
    "#Algebraic manipulations\n",
    "#expand()\n",
    "x = sym.Symbol('x')\n",
    "y = sym.Symbol('y')\n",
    "exp = (x+y)**2\n",
    "print(expand(exp)) #x^2 + 2xy + y^2 "
   ]
  },
  {
   "cell_type": "code",
   "execution_count": 9,
   "id": "1b93a043",
   "metadata": {},
   "outputs": [
    {
     "name": "stdout",
     "output_type": "stream",
     "text": [
      "x**2 + y**2\n"
     ]
    }
   ],
   "source": [
    "#simplify()\n",
    "x = sym.Symbol('x')\n",
    "y = sym.Symbol('y')\n",
    "exp = x**2-x*y+x*y+y**2\n",
    "print(simplify(exp))"
   ]
  },
  {
   "cell_type": "code",
   "execution_count": 10,
   "id": "eb034b9b",
   "metadata": {},
   "outputs": [
    {
     "name": "stdout",
     "output_type": "stream",
     "text": [
      "tan(x)\n"
     ]
    }
   ],
   "source": [
    "#trigsimp() - Trignometric Simplification\n",
    "x = Symbol('x')\n",
    "y = Symbol('y')\n",
    "exp = sin(x)/cos(x)\n",
    "print(trigsimp(exp))"
   ]
  },
  {
   "cell_type": "code",
   "execution_count": 11,
   "id": "2a81652b",
   "metadata": {},
   "outputs": [
    {
     "name": "stdout",
     "output_type": "stream",
     "text": [
      "[-3, 3]\n",
      "{-3, 3}\n"
     ]
    }
   ],
   "source": [
    "#solve() or solveset()\n",
    "x = Symbol('x')\n",
    "exp = Eq(x**2,9) # x+1=9\n",
    "print(solve(exp,x))\n",
    "print(solveset(exp,x))"
   ]
  },
  {
   "cell_type": "code",
   "execution_count": 12,
   "id": "bb3da5db",
   "metadata": {},
   "outputs": [
    {
     "name": "stdout",
     "output_type": "stream",
     "text": [
      "Matrix([[1, 2], [3, 4], [5, 6]])\n",
      "--------------------------------\n",
      "⎡1  2⎤\n",
      "⎢    ⎥\n",
      "⎢3  4⎥\n",
      "⎢    ⎥\n",
      "⎣5  6⎦\n"
     ]
    }
   ],
   "source": [
    "#Matrix()\n",
    "M = Matrix([[1,2],[3,4],[5,6]])\n",
    "print(M)\n",
    "print('--------------------------------')\n",
    "pprint(M)"
   ]
  },
  {
   "cell_type": "code",
   "execution_count": 13,
   "id": "5d94f8ad",
   "metadata": {},
   "outputs": [
    {
     "name": "stdout",
     "output_type": "stream",
     "text": [
      "(x**2 - x - 1)*(x**2 + x - 1)\n"
     ]
    }
   ],
   "source": [
    "#factor()\n",
    "x = Symbol('x')\n",
    "exp = x**4 - 3*x**2 + 1\n",
    "print(factor(exp))"
   ]
  },
  {
   "cell_type": "code",
   "execution_count": 14,
   "id": "ca446b16",
   "metadata": {},
   "outputs": [
    {
     "name": "stdout",
     "output_type": "stream",
     "text": [
      "x + x**3/3 + 2*x**5/15 + O(x**6)\n"
     ]
    }
   ],
   "source": [
    "#series()\n",
    "x = Symbol('x')\n",
    "exp = tan(x)\n",
    "print(series(exp))"
   ]
  }
 ],
 "metadata": {
  "kernelspec": {
   "display_name": "Python 3 (ipykernel)",
   "language": "python",
   "name": "python3"
  },
  "language_info": {
   "codemirror_mode": {
    "name": "ipython",
    "version": 3
   },
   "file_extension": ".py",
   "mimetype": "text/x-python",
   "name": "python",
   "nbconvert_exporter": "python",
   "pygments_lexer": "ipython3",
   "version": "3.9.7"
  }
 },
 "nbformat": 4,
 "nbformat_minor": 5
}
